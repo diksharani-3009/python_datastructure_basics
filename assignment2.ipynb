{
 "cells": [
  {
   "cell_type": "code",
   "execution_count": 1,
   "id": "b26510e9-7633-423d-a6d7-dc4e0eea9d0e",
   "metadata": {},
   "outputs": [],
   "source": [
    "## This is single line comment "
   ]
  },
  {
   "cell_type": "code",
   "execution_count": 3,
   "id": "2248779c-3a8e-403c-8ea3-d236b755ae55",
   "metadata": {},
   "outputs": [
    {
     "data": {
      "text/plain": [
       "' this is a multi line comment\\nin python'"
      ]
     },
     "execution_count": 3,
     "metadata": {},
     "output_type": "execute_result"
    }
   ],
   "source": [
    "\"\"\" this is a multi line comment\n",
    "in python\"\"\""
   ]
  },
  {
   "cell_type": "code",
   "execution_count": 4,
   "id": "ce0ab3b1-16b3-4f17-98ce-6c27cae7ff60",
   "metadata": {},
   "outputs": [],
   "source": [
    "s=\"\"\"this is a multi line comment\n",
    "in python which can be stored\n",
    "as in any variable and can be used as string\"\"\""
   ]
  },
  {
   "cell_type": "code",
   "execution_count": 5,
   "id": "de00107f-7a30-44b4-a513-ba96f625aa39",
   "metadata": {},
   "outputs": [
    {
     "data": {
      "text/plain": [
       "'this is a multi line comment\\nin python which can be stored\\nas in any variable and can be used as string'"
      ]
     },
     "execution_count": 5,
     "metadata": {},
     "output_type": "execute_result"
    }
   ],
   "source": [
    "s"
   ]
  },
  {
   "cell_type": "code",
   "execution_count": 6,
   "id": "9e199c75-6c80-47a8-a6e0-fa487f91316a",
   "metadata": {},
   "outputs": [],
   "source": [
    "## there are several types of vaiable in python"
   ]
  },
  {
   "cell_type": "code",
   "execution_count": 7,
   "id": "7c9a2b79-d5bf-4d1c-9a93-a26d214fd397",
   "metadata": {},
   "outputs": [],
   "source": [
    "num=8762"
   ]
  },
  {
   "cell_type": "code",
   "execution_count": 8,
   "id": "8c9729a1-b9b5-494b-a3b7-1a0b05283ae6",
   "metadata": {},
   "outputs": [
    {
     "data": {
      "text/plain": [
       "int"
      ]
     },
     "execution_count": 8,
     "metadata": {},
     "output_type": "execute_result"
    }
   ],
   "source": [
    "type(num)"
   ]
  },
  {
   "cell_type": "code",
   "execution_count": 9,
   "id": "2efb5237-6aaa-47ca-b42e-f24815901e00",
   "metadata": {},
   "outputs": [],
   "source": [
    "flo=66.762"
   ]
  },
  {
   "cell_type": "code",
   "execution_count": 10,
   "id": "6c256963-0f75-41c2-90b9-498dc7f2ae3e",
   "metadata": {},
   "outputs": [
    {
     "data": {
      "text/plain": [
       "float"
      ]
     },
     "execution_count": 10,
     "metadata": {},
     "output_type": "execute_result"
    }
   ],
   "source": [
    "type(flo)"
   ]
  },
  {
   "cell_type": "code",
   "execution_count": 14,
   "id": "ffa1c426-2e42-4312-b7c5-2dacd9faa6d4",
   "metadata": {},
   "outputs": [],
   "source": [
    "com=66.9j"
   ]
  },
  {
   "cell_type": "code",
   "execution_count": 15,
   "id": "56387c62-1dd4-45b7-a2a9-87de56c7a900",
   "metadata": {},
   "outputs": [
    {
     "data": {
      "text/plain": [
       "complex"
      ]
     },
     "execution_count": 15,
     "metadata": {},
     "output_type": "execute_result"
    }
   ],
   "source": [
    "type(com)"
   ]
  },
  {
   "cell_type": "code",
   "execution_count": 16,
   "id": "4dd11683-265f-40e6-b55e-6dd33223a6ad",
   "metadata": {},
   "outputs": [],
   "source": [
    "stri=\"Diksha\""
   ]
  },
  {
   "cell_type": "code",
   "execution_count": 17,
   "id": "e8088800-7c6b-4709-8f69-3238034856e0",
   "metadata": {},
   "outputs": [
    {
     "data": {
      "text/plain": [
       "str"
      ]
     },
     "execution_count": 17,
     "metadata": {},
     "output_type": "execute_result"
    }
   ],
   "source": [
    "type(stri)"
   ]
  },
  {
   "cell_type": "code",
   "execution_count": 18,
   "id": "7c01e11c-980d-41ae-adb9-1454c6d20522",
   "metadata": {},
   "outputs": [],
   "source": [
    "r=range(5)"
   ]
  },
  {
   "cell_type": "code",
   "execution_count": 19,
   "id": "55e17433-86ee-4a43-8722-3979acc7f7a8",
   "metadata": {},
   "outputs": [
    {
     "data": {
      "text/plain": [
       "range"
      ]
     },
     "execution_count": 19,
     "metadata": {},
     "output_type": "execute_result"
    }
   ],
   "source": [
    "type(r)"
   ]
  },
  {
   "cell_type": "code",
   "execution_count": 20,
   "id": "19187899-f8e6-4a28-8e72-1dbc2f7ef045",
   "metadata": {},
   "outputs": [],
   "source": [
    "t=(3,8,99.8,8+8j,\"pwskills\")"
   ]
  },
  {
   "cell_type": "code",
   "execution_count": 21,
   "id": "5ebd5a58-91fd-4b23-9807-4a1fceef7e79",
   "metadata": {},
   "outputs": [
    {
     "data": {
      "text/plain": [
       "tuple"
      ]
     },
     "execution_count": 21,
     "metadata": {},
     "output_type": "execute_result"
    }
   ],
   "source": [
    "type(t)"
   ]
  },
  {
   "cell_type": "code",
   "execution_count": 22,
   "id": "65a54eaf-8ca3-432c-bd57-201081d20c8e",
   "metadata": {},
   "outputs": [],
   "source": [
    "l=[3,9,88+8j,\"pwskills\",77.99]"
   ]
  },
  {
   "cell_type": "code",
   "execution_count": 23,
   "id": "57d4bf61-17b3-4998-971d-8fbe6ec11d95",
   "metadata": {},
   "outputs": [
    {
     "data": {
      "text/plain": [
       "list"
      ]
     },
     "execution_count": 23,
     "metadata": {},
     "output_type": "execute_result"
    }
   ],
   "source": [
    "type(l)"
   ]
  },
  {
   "cell_type": "code",
   "execution_count": 24,
   "id": "be6a4474-2008-477f-88f5-f1a4096c3172",
   "metadata": {},
   "outputs": [],
   "source": [
    "b=True"
   ]
  },
  {
   "cell_type": "code",
   "execution_count": 25,
   "id": "91c76d11-bdd6-4e62-86a8-140b401ce987",
   "metadata": {},
   "outputs": [
    {
     "data": {
      "text/plain": [
       "bool"
      ]
     },
     "execution_count": 25,
     "metadata": {},
     "output_type": "execute_result"
    }
   ],
   "source": [
    "type(b)"
   ]
  },
  {
   "cell_type": "code",
   "execution_count": 26,
   "id": "5c708095-c67a-46bb-a394-7fa3265405a2",
   "metadata": {},
   "outputs": [],
   "source": [
    "s={9,82,99}"
   ]
  },
  {
   "cell_type": "code",
   "execution_count": 27,
   "id": "c81e6f90-4150-4360-b88a-bd537d6a3fba",
   "metadata": {},
   "outputs": [
    {
     "data": {
      "text/plain": [
       "set"
      ]
     },
     "execution_count": 27,
     "metadata": {},
     "output_type": "execute_result"
    }
   ],
   "source": [
    "type(s)"
   ]
  },
  {
   "cell_type": "code",
   "execution_count": 28,
   "id": "d90562b0-2a9e-49a9-a18d-4868cf5a1b12",
   "metadata": {},
   "outputs": [],
   "source": [
    "d={\"name\":\"diksha\",\"ins\":\"pwskills\"}"
   ]
  },
  {
   "cell_type": "code",
   "execution_count": 29,
   "id": "d160e511-3551-44b3-9820-e1ae4f482541",
   "metadata": {},
   "outputs": [
    {
     "data": {
      "text/plain": [
       "dict"
      ]
     },
     "execution_count": 29,
     "metadata": {},
     "output_type": "execute_result"
    }
   ],
   "source": [
    "type(d)"
   ]
  },
  {
   "cell_type": "code",
   "execution_count": 30,
   "id": "9d8e93ef-48c4-4752-b0a7-0e82a7e6dfd4",
   "metadata": {},
   "outputs": [
    {
     "data": {
      "text/plain": [
       "{9, 82, 99}"
      ]
     },
     "execution_count": 30,
     "metadata": {},
     "output_type": "execute_result"
    }
   ],
   "source": [
    "s"
   ]
  },
  {
   "cell_type": "code",
   "execution_count": 31,
   "id": "c55be58d-7111-4676-a93f-b64047629d66",
   "metadata": {},
   "outputs": [],
   "source": [
    "#convert one data into another data"
   ]
  },
  {
   "cell_type": "code",
   "execution_count": 32,
   "id": "5618d84b-b05b-47ca-b571-97e3c6035ff7",
   "metadata": {},
   "outputs": [
    {
     "data": {
      "text/plain": [
       "[9, 82, 99]"
      ]
     },
     "execution_count": 32,
     "metadata": {},
     "output_type": "execute_result"
    }
   ],
   "source": [
    "list(s)"
   ]
  },
  {
   "cell_type": "code",
   "execution_count": 33,
   "id": "5cbaab4e-bf87-4bde-a9d2-84182972e03b",
   "metadata": {},
   "outputs": [
    {
     "data": {
      "text/plain": [
       "(9, 82, 99)"
      ]
     },
     "execution_count": 33,
     "metadata": {},
     "output_type": "execute_result"
    }
   ],
   "source": [
    "tuple(s)"
   ]
  },
  {
   "cell_type": "code",
   "execution_count": 34,
   "id": "d874bd00-3b68-4448-9bb4-984a0e48d4a3",
   "metadata": {},
   "outputs": [
    {
     "data": {
      "text/plain": [
       "(3, 9, (88+8j), 'pwskills', 77.99)"
      ]
     },
     "execution_count": 34,
     "metadata": {},
     "output_type": "execute_result"
    }
   ],
   "source": [
    "tuple(l)"
   ]
  },
  {
   "cell_type": "code",
   "execution_count": 35,
   "id": "0f92e0db-e1e7-4cd3-9c56-beee7fd59de9",
   "metadata": {},
   "outputs": [
    {
     "data": {
      "text/plain": [
       "[3, 8, 99.8, (8+8j), 'pwskills']"
      ]
     },
     "execution_count": 35,
     "metadata": {},
     "output_type": "execute_result"
    }
   ],
   "source": [
    "list(t)"
   ]
  },
  {
   "cell_type": "code",
   "execution_count": 36,
   "id": "c2a1f975-2668-4070-8d54-096faee1e122",
   "metadata": {},
   "outputs": [],
   "source": [
    "#execute a Python script from the command line"
   ]
  },
  {
   "cell_type": "code",
   "execution_count": 37,
   "id": "47d4abbc-1016-459d-b3df-fa5123724338",
   "metadata": {},
   "outputs": [],
   "source": [
    "#list my_list = [1, 2, 3, 4, 5], write the code to slice the list and obtain the sub-list [2, 3]."
   ]
  },
  {
   "cell_type": "code",
   "execution_count": 38,
   "id": "fdfeaec8-5f3b-452b-9bac-35593a6a8d27",
   "metadata": {},
   "outputs": [],
   "source": [
    "my_list=[1,2,3,4,5]"
   ]
  },
  {
   "cell_type": "code",
   "execution_count": 39,
   "id": "9498b0f3-d242-4abe-a3d0-b60a3be416a3",
   "metadata": {},
   "outputs": [],
   "source": [
    "sub_list=my_list[1:3]"
   ]
  },
  {
   "cell_type": "code",
   "execution_count": 40,
   "id": "3342d1ff-2e85-4cdf-a628-49379ea9194a",
   "metadata": {},
   "outputs": [
    {
     "data": {
      "text/plain": [
       "[2, 3]"
      ]
     },
     "execution_count": 40,
     "metadata": {},
     "output_type": "execute_result"
    }
   ],
   "source": [
    "sub_list"
   ]
  },
  {
   "cell_type": "code",
   "execution_count": 41,
   "id": "bd3034a4-2503-422d-9d2f-e12d1f25d66c",
   "metadata": {},
   "outputs": [],
   "source": [
    "# complex number in maths is like 8+9i but in python is represented by "
   ]
  },
  {
   "cell_type": "code",
   "execution_count": 42,
   "id": "820cfd19-1ddd-40a7-b912-6e2b8a41d217",
   "metadata": {},
   "outputs": [],
   "source": [
    "c=8+8j"
   ]
  },
  {
   "cell_type": "code",
   "execution_count": 43,
   "id": "f7ec7fbd-9386-4915-921d-3026758e1a99",
   "metadata": {},
   "outputs": [
    {
     "data": {
      "text/plain": [
       "complex"
      ]
     },
     "execution_count": 43,
     "metadata": {},
     "output_type": "execute_result"
    }
   ],
   "source": [
    "type(c)"
   ]
  },
  {
   "cell_type": "code",
   "execution_count": 44,
   "id": "ce5f52a3-36a4-4773-80fa-3736016eac62",
   "metadata": {},
   "outputs": [],
   "source": [
    "#que-7"
   ]
  },
  {
   "cell_type": "code",
   "execution_count": 45,
   "id": "f0756584-17d2-4112-b406-0211bac1fa3a",
   "metadata": {},
   "outputs": [],
   "source": [
    "age=25"
   ]
  },
  {
   "cell_type": "code",
   "execution_count": 46,
   "id": "a8ef05a1-4a68-4e2a-aec7-8b0582fc3fe4",
   "metadata": {},
   "outputs": [
    {
     "data": {
      "text/plain": [
       "25"
      ]
     },
     "execution_count": 46,
     "metadata": {},
     "output_type": "execute_result"
    }
   ],
   "source": [
    "age"
   ]
  },
  {
   "cell_type": "code",
   "execution_count": 47,
   "id": "b7641487-2f36-4a31-a5cb-c7a313d7ba74",
   "metadata": {},
   "outputs": [
    {
     "data": {
      "text/plain": [
       "int"
      ]
     },
     "execution_count": 47,
     "metadata": {},
     "output_type": "execute_result"
    }
   ],
   "source": [
    "type(age)"
   ]
  },
  {
   "cell_type": "code",
   "execution_count": 48,
   "id": "1ff275ce-d521-4517-8080-221be3410f43",
   "metadata": {},
   "outputs": [],
   "source": [
    "# que -8"
   ]
  },
  {
   "cell_type": "code",
   "execution_count": 50,
   "id": "ea125e0c-4144-4726-b652-1459ad11005e",
   "metadata": {},
   "outputs": [],
   "source": [
    "price=9.99"
   ]
  },
  {
   "cell_type": "code",
   "execution_count": 51,
   "id": "b8e518e3-547d-4734-9e8e-11f217064880",
   "metadata": {},
   "outputs": [
    {
     "data": {
      "text/plain": [
       "9.99"
      ]
     },
     "execution_count": 51,
     "metadata": {},
     "output_type": "execute_result"
    }
   ],
   "source": [
    "price"
   ]
  },
  {
   "cell_type": "code",
   "execution_count": 52,
   "id": "40c25ce7-7b9e-44d0-81fa-8a4031e11b99",
   "metadata": {},
   "outputs": [
    {
     "data": {
      "text/plain": [
       "float"
      ]
     },
     "execution_count": 52,
     "metadata": {},
     "output_type": "execute_result"
    }
   ],
   "source": [
    "type(price)"
   ]
  },
  {
   "cell_type": "code",
   "execution_count": 53,
   "id": "c1e4f0a8-0c66-4f5f-baad-af7aeff0a723",
   "metadata": {},
   "outputs": [
    {
     "name": "stdout",
     "output_type": "stream",
     "text": [
      "Diksha Rani\n"
     ]
    }
   ],
   "source": [
    "name=\"Diksha Rani\"\n",
    "print(name)"
   ]
  },
  {
   "cell_type": "code",
   "execution_count": 54,
   "id": "c9472b5d-e39b-441e-bbce-457cf87758cc",
   "metadata": {},
   "outputs": [],
   "source": [
    "stri=\"Hello, World!\""
   ]
  },
  {
   "cell_type": "code",
   "execution_count": 55,
   "id": "4366bbfe-db16-462f-a444-5b4579a0b39d",
   "metadata": {},
   "outputs": [
    {
     "data": {
      "text/plain": [
       "'World'"
      ]
     },
     "execution_count": 55,
     "metadata": {},
     "output_type": "execute_result"
    }
   ],
   "source": [
    "stri[7:12]"
   ]
  },
  {
   "cell_type": "code",
   "execution_count": 74,
   "id": "b5ca1bc8-a17f-496e-a61f-c450ed170896",
   "metadata": {},
   "outputs": [
    {
     "name": "stdout",
     "output_type": "stream",
     "text": [
      "currently not a student\n"
     ]
    }
   ],
   "source": [
    "is_student=False\n",
    "if is_student == True:\n",
    "    print(f\"currently a student\")\n",
    "else :\n",
    "    print(\"currently not a student\")"
   ]
  },
  {
   "cell_type": "code",
   "execution_count": null,
   "id": "353803ba-8ff5-428f-b92a-c15386250b6b",
   "metadata": {},
   "outputs": [],
   "source": []
  }
 ],
 "metadata": {
  "kernelspec": {
   "display_name": "Python 3 (ipykernel)",
   "language": "python",
   "name": "python3"
  },
  "language_info": {
   "codemirror_mode": {
    "name": "ipython",
    "version": 3
   },
   "file_extension": ".py",
   "mimetype": "text/x-python",
   "name": "python",
   "nbconvert_exporter": "python",
   "pygments_lexer": "ipython3",
   "version": "3.10.8"
  }
 },
 "nbformat": 4,
 "nbformat_minor": 5
}
